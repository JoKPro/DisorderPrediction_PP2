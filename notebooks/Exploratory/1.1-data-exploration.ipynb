{
 "cells": [
  {
   "cell_type": "code",
   "execution_count": 3,
   "id": "4de0a1cb-3659-474f-8a4f-7baa8be1ae05",
   "metadata": {},
   "outputs": [],
   "source": [
    "import numpy as np\n",
    "import h5py\n",
    "import os\n",
    "import ast"
   ]
  },
  {
   "cell_type": "markdown",
   "id": "8a6e08a7-9ee3-4ecc-a7f2-3dcf028f6af6",
   "metadata": {},
   "source": [
    "# Create the dataset\n",
    "- Amino Acid sequence (variable length)\n",
    "- Z-scores\n",
    "\n",
    "1. Dataset with AA sequence and protein ID\n",
    "2. Dataset with Z-scores and protein ID\n",
    "\n",
    "Dataset is not tabular: different sequence lengths -> different lengths of z-score lists\n",
    "-> If in-memory: dictionary?\n",
    "\n",
    "Recap of task:\n",
    "- Input: AA **Embeddings** of variable shape (N, (1, D_i)), where i is the i-th amino acid embedding\n",
    "- Output: Z-score array (one score for each AA in the sequence) of variable shape (N, (1, D_i))\n",
    "\n",
    "\n",
    "1. Create a dataset (and dataloader?)\n",
    "    - Store embeddings and z_scores in different dictionaries\n",
    "    - sequence_ids are keys"
   ]
  },
  {
   "cell_type": "code",
   "execution_count": 17,
   "id": "85865092-88de-4759-8d22-409d46a504e0",
   "metadata": {},
   "outputs": [],
   "source": [
    "class Dataset:\n",
    "    \n",
    "    def __init__(self, embeddings_path, scores_path, seq_ids_path, split={\"train\": 0.8, \"val\": 0.2}):\n",
    "        \n",
    "        self.raw_ids = None\n",
    "        self.raw_seqs = None\n",
    "        self.embeddings = None\n",
    "        self.scores = None\n",
    "        \n",
    "        assert os.path.exists(embeddings_path), f\"Embeddings file not found in path: {embeddings_path}\"\n",
    "        assert os.path.exists(scores_path), f\"Scores file not found in path: {scores_path}\"\n",
    "        assert os.path.exists(scores_path), f\"Scores file not found in path: {seq_ids_path}\"\n",
    "        assert sum(split.values()) == 1.0, \"Invalid split\"\n",
    "        \n",
    "        self.embeddings_path = embeddings_path\n",
    "        self.scores_path = scores_path\n",
    "        self.seq_ids_path = seq_ids_path\n",
    "        \n",
    "        self.split = split\n",
    "        \n",
    "        self.create_dataset()\n",
    "        pass\n",
    "    \n",
    "    def __getitem__(self, idx):\n",
    "        \n",
    "        if isinstance(idx, slice):\n",
    "            raise(Exception(\"Not yet implemented :((\"))\n",
    "        elif isinstance(idx, int):\n",
    "            idx = self.raw_ids[idx]\n",
    "            print(f\"idx: {idx}\")\n",
    "        elif not isinstance(idx, str):\n",
    "            raise(ValueError(\"Invalid index type\"))\n",
    "        \n",
    "        return (self.embeddings[idx], self.scores[idx], self.raw_seqs[idx])    \n",
    "    \n",
    "    def __len__(self):\n",
    "        pass\n",
    "    \n",
    "    def create_dataset(self):\n",
    "        \n",
    "        with h5py.File(self.embeddings_path, \"r\") as embeddings_h5:\n",
    "            self.embeddings = {id: np.array(embs) for id, embs in embeddings_h5.items()}\n",
    "\n",
    "        with open(self.scores_path, \"r\") as scores_file:\n",
    "            lines = scores_file.readlines()\n",
    "            raw_scores = [np.array(ast.literal_eval(line)) for line in lines]\n",
    "        with open(self.seq_ids_path, \"r\") as id_file:\n",
    "            lines = id_file.readlines()\n",
    "            self.raw_ids = [str(line.split(\" \")[0]) for line in lines]\n",
    "            raw_seqs = [line.split(\" \")[1].strip() for line in lines]\n",
    "        \n",
    "        self.scores = dict(zip(self.raw_ids, raw_scores))\n",
    "        self.raw_seqs = dict(zip(self.raw_ids, raw_seqs))\n",
    "        \n",
    "        pass\n",
    "    "
   ]
  },
  {
   "cell_type": "code",
   "execution_count": 18,
   "id": "43615682-5bf2-451e-b6c4-eea5f0e9a521",
   "metadata": {},
   "outputs": [],
   "source": [
    "data_dir = \"../../data/raw/\"\n",
    "embeddings_path = os.path.join(data_dir, \"t5_xl_u50_v3_EncOnlyHalfPrec_CheZOD_1325_nRtoTestAt20_nrWithinAt20.h5\")\n",
    "scores_path = os.path.join(data_dir, \"allscores1325newest.txt\")\n",
    "id_path = os.path.join(data_dir, \"allseqs1325.txt\")"
   ]
  },
  {
   "cell_type": "code",
   "execution_count": 6,
   "id": "b580578c-debc-47f2-abc6-ec8cfe94f276",
   "metadata": {},
   "outputs": [],
   "source": [
    "first_dataset = Dataset(embeddings_path=embeddings_path, scores_path=scores_path, seq_ids_path=id_path)"
   ]
  },
  {
   "cell_type": "code",
   "execution_count": 15,
   "id": "1e0d8c77-232a-4cc8-af7d-27222b0cb0ba",
   "metadata": {},
   "outputs": [
    {
     "name": "stdout",
     "output_type": "stream",
     "text": [
      "idx: 26672\n"
     ]
    }
   ],
   "source": [
    "embd, score, seq = first_dataset[0]"
   ]
  },
  {
   "cell_type": "code",
   "execution_count": 10,
   "id": "e4f40e21-2516-4f57-821a-e3eacd408d87",
   "metadata": {},
   "outputs": [
    {
     "data": {
      "text/plain": [
       "(163, 1024)"
      ]
     },
     "execution_count": 10,
     "metadata": {},
     "output_type": "execute_result"
    }
   ],
   "source": [
    "embd.shape"
   ]
  },
  {
   "cell_type": "code",
   "execution_count": 14,
   "id": "c7d51ab2-9d26-43b5-9794-01e0d79f9023",
   "metadata": {},
   "outputs": [
    {
     "data": {
      "text/plain": [
       "(163,)"
      ]
     },
     "execution_count": 14,
     "metadata": {},
     "output_type": "execute_result"
    }
   ],
   "source": [
    "score.shape"
   ]
  },
  {
   "cell_type": "code",
   "execution_count": 24,
   "id": "50817f97-8876-4ca2-ac50-5952a17edec5",
   "metadata": {},
   "outputs": [
    {
     "data": {
      "text/plain": [
       "(163, 1024)"
      ]
     },
     "execution_count": 24,
     "metadata": {},
     "output_type": "execute_result"
    }
   ],
   "source": [
    "embd.shape"
   ]
  },
  {
   "cell_type": "code",
   "execution_count": 27,
   "id": "d1016ca6-180f-403b-bf22-2acd23dfc3fe",
   "metadata": {},
   "outputs": [
    {
     "data": {
      "text/plain": [
       "163"
      ]
     },
     "execution_count": 27,
     "metadata": {},
     "output_type": "execute_result"
    }
   ],
   "source": [
    "len(seq)"
   ]
  },
  {
   "cell_type": "code",
   "execution_count": 16,
   "id": "462f469b-ae73-40fe-bfb6-0c562cb81735",
   "metadata": {},
   "outputs": [
    {
     "data": {
      "text/plain": [
       "'MASNDYTQQATQSYGAYPTQPGQGYSQQSSQPYGQQSYSGYSQSTDTSGYGQSSYSSYGQSQNTGYGTQSTPQGYGSTGGYGSSQSSQSSYGQQSSYPGYGQQPAPSSTSGSYGSSSQSSSYGQPQSGSYSQQPSYGGQQQSYGQQQSYNPPQGYGQQNQYNS'"
      ]
     },
     "execution_count": 16,
     "metadata": {},
     "output_type": "execute_result"
    }
   ],
   "source": [
    "seq"
   ]
  }
 ],
 "metadata": {
  "kernelspec": {
   "display_name": "disorder-prediction",
   "language": "python",
   "name": "disorder-prediction"
  },
  "language_info": {
   "codemirror_mode": {
    "name": "ipython",
    "version": 3
   },
   "file_extension": ".py",
   "mimetype": "text/x-python",
   "name": "python",
   "nbconvert_exporter": "python",
   "pygments_lexer": "ipython3",
   "version": "3.10.8"
  }
 },
 "nbformat": 4,
 "nbformat_minor": 5
}
